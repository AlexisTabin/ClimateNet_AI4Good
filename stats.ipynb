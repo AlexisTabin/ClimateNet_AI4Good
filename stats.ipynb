{
 "cells": [
  {
   "cell_type": "code",
   "execution_count": null,
   "outputs": [],
   "source": [
    "import os\n",
    "import pandas as pd\n",
    "import numpy as np\n",
    "import seaborn as sns\n",
    "import matplotlib.pyplot as plt\n",
    "from netCDF4 import Dataset\n",
    "from itertools import combinations\n",
    "from scipy.stats import f_oneway, kendalltau, pearsonr, spearmanr"
   ],
   "metadata": {
    "collapsed": false,
    "pycharm": {
     "name": "#%%\n"
    }
   }
  },
  {
   "cell_type": "code",
   "execution_count": 5,
   "outputs": [],
   "source": [
    "features = ['TMQ', 'U850', 'V850', 'UBOT', 'VBOT', 'QREFHT', 'PS', 'PSL', 'T200', 'T500', 'PRECT', 'TS', 'TREFHT',\n",
    "                'Z1000', 'Z200', 'ZBOT']\n",
    "\n",
    "here = os.getcwd()\n",
    "#\n",
    "data_dir = os.path.join(here, 'io/data/train/')  # directory with the nc files\n",
    "plots_dir = os.path.join(here, 'io/plots/')\n",
    "stats_dir = os.path.join(here, 'io/stats/')\n",
    "\n",
    "if not os.path.exists(data_dir):\n",
    "    raise FileNotFoundError(\"data directory not found at\", data_dir)\n",
    "\n",
    "if not os.path.exists(stats_dir):\n",
    "    os.makedirs(stats_dir)\n",
    "\n",
    "if not os.path.exists(plots_dir):\n",
    "    os.makedirs(plots_dir)"
   ],
   "metadata": {
    "collapsed": false,
    "pycharm": {
     "name": "#%%\n"
    }
   }
  },
  {
   "cell_type": "code",
   "execution_count": null,
   "outputs": [],
   "source": [
    "# calculate all correlations\n",
    "combs = list(combinations(features, 2))\n",
    "for i in range(len(combs)):\n",
    "    comb = combs[i]\n",
    "    print(\"loading data:\", comb[0], comb[1], \"...\")\n",
    "    feat_0_list = []\n",
    "    feat_1_list = []\n",
    "\n",
    "    for file in os.listdir(data_dir):\n",
    "        path = os.path.join(data_dir, file)\n",
    "        nc = Dataset(path)\n",
    "\n",
    "        feat_0_list.append(nc.variables[comb[0]][:][0])\n",
    "        feat_1_list.append(nc.variables[comb[1]][:][0])\n",
    "\n",
    "    n = len(os.listdir(data_dir))\n",
    "\n",
    "    feat_0 = np.vstack(feat_0_list).reshape((n, 768, 1152))\n",
    "    feat_1 = np.vstack(feat_1_list).reshape((n, 768, 1152))\n",
    "\n",
    "    corr = []\n",
    "    assert (np.shape(feat_0) == np.shape(feat_1))\n",
    "    print(\"calculating correlation coefficients for features \", comb[0], comb[1], \"...\")\n",
    "    for row in range(len(feat_0[0, :, 0])):\n",
    "        for col in range(len(feat_0[0, 0])):\n",
    "            p_r = pearsonr(feat_0[:, row, col], feat_1[:, row, col])\n",
    "            # s_r = spearmanr(tmq[:, row, col], u850[:, row, col])\n",
    "            # k_t = kendalltau(tmq[:, row, col], u850[:, row, col])\n",
    "\n",
    "            # pointcorr = ([p_r[0], s_r[0], k_t[0]])\n",
    "            # corr.append(pointcorr)\n",
    "\n",
    "            corr.append(p_r[0])\n",
    "\n",
    "    corr_mat = np.reshape(corr, (768, 1152))\n",
    "    print(\"saving \", comb[0], comb[1], \"...\")\n",
    "    np.savetxt(os.path.join(stats_dir, \"p_corr_\" + comb[0] + \"_\" + comb[1] + \".csv\"), corr_mat, delimiter=',')\n",
    "    sns.heatmap(corr_mat)\n",
    "    plt.savefig(plots_dir + \"p_corr_\" + comb[0] + \"_\" + comb[1] + \".png\")\n",
    "    plt.clf()"
   ],
   "metadata": {
    "collapsed": false,
    "pycharm": {
     "name": "#%%\n"
    }
   }
  },
  {
   "cell_type": "code",
   "execution_count": null,
   "outputs": [],
   "source": [
    "# calculate anova scores\n",
    "for feature in features:\n",
    "\n",
    "    feat_0_list = []\n",
    "    labels_list = []\n",
    "\n",
    "    print(\"Loading data for \",feature, \"...\")\n",
    "    for file in os.listdir(data_dir):\n",
    "        path = os.path.join(data_dir, file)\n",
    "\n",
    "        nc = Dataset(path)\n",
    "\n",
    "        feat_0_list.append(nc.variables[feature])\n",
    "        labels_list.append(nc.variables[\"LABELS\"])\n",
    "\n",
    "    n = len(os.listdir(data_dir))\n",
    "\n",
    "    feat_0 = np.vstack(feat_0_list).reshape((n, 768, 1152))\n",
    "    labels = np.vstack(labels_list).reshape((n, 768, 1152))\n",
    "\n",
    "    anova = []\n",
    "\n",
    "    print(\"Calculating anova...\")\n",
    "    for i in range(n):\n",
    "        label_B_idx = np.where(labels[0] == 0)\n",
    "        label_1_idx = np.where(labels[0] == 1)\n",
    "        label_2_idx = np.where(labels[0] == 2)\n",
    "\n",
    "        background = feat_0[i][(label_B_idx[0], label_B_idx[1])]\n",
    "        label_1_data = feat_0[i][(label_1_idx[0], label_1_idx[1])]\n",
    "        label_2_data = feat_0[i][(label_2_idx[0], label_2_idx[1])]\n",
    "\n",
    "        anova.append(f_oneway(background, label_1_data, label_2_data).statistic)\n",
    "    print(\"Saving...\")\n",
    "    np.savetxt(stats_dir + \"anova_\" + feature + \".csv\", anova)"
   ],
   "metadata": {
    "collapsed": false,
    "pycharm": {
     "name": "#%%\n"
    }
   }
  },
  {
   "cell_type": "code",
   "execution_count": null,
   "outputs": [],
   "source": [
    "anova = [file for file in os.listdir(stats_dir) if file.startswith(\"anova\")]\n",
    "anova_pd = pd.DataFrame()\n",
    "for file in anova:\n",
    "    name = file.replace(\".csv\", \"\").replace(\"anova_\", \"\")\n",
    "    data = pd.read_csv(stats_dir + file)\n",
    "    anova_pd[name] = data\n",
    "\n",
    "display(anova_pd.mean().sort_values())"
   ],
   "metadata": {
    "collapsed": false,
    "pycharm": {
     "name": "#%%\n"
    }
   }
  },
  {
   "cell_type": "code",
   "execution_count": null,
   "outputs": [],
   "source": [
    "# calculate kendall coefficient\n",
    "for feature in features:\n",
    "\n",
    "    feat_0_list = []\n",
    "    labels_list = []\n",
    "\n",
    "    print(\"Loading data for \", feature, \"...\")\n",
    "    for file in os.listdir(data_dir):\n",
    "        path = os.path.join(data_dir, file)\n",
    "\n",
    "        nc = Dataset(path)\n",
    "\n",
    "        feat_0_list.append(nc.variables[feature])\n",
    "        labels_list.append(nc.variables[\"LABELS\"])\n",
    "\n",
    "    n = len(os.listdir(data_dir))\n",
    "\n",
    "    feat_0 = np.vstack(feat_0_list).reshape((n, 768 * 1152))\n",
    "\n",
    "    kendall = []\n",
    "\n",
    "    print(\"Calculating kendall...\")\n",
    "    for i in range(n):\n",
    "        f = feat_0[i]\n",
    "        l = labels_list[i]\n",
    "\n",
    "        kendall.append(kendalltau(f, l)[0])\n",
    "    print(\"Saving...\")\n",
    "    np.savetxt(stats_dir + \"kendall_\" + feature + \".csv\", kendall)"
   ],
   "metadata": {
    "collapsed": false,
    "pycharm": {
     "name": "#%%\n"
    }
   }
  },
  {
   "cell_type": "code",
   "execution_count": null,
   "outputs": [],
   "source": [
    "kendall = [file for file in os.listdir(stats_dir) if file.startswith(\"kendall\")]\n",
    "kendall_pd = pd.DataFrame()\n",
    "for file in kendall:\n",
    "    name = file.replace(\".csv\", \"\").replace(\"kendall_\", \"\")\n",
    "    data = pd.read_csv(stats_dir + file)\n",
    "    kendall_pd[name] = data\n",
    "\n",
    "display(kendall_pd.mean().sort_values())"
   ],
   "metadata": {
    "collapsed": false,
    "pycharm": {
     "name": "#%%\n"
    }
   }
  },
  {
   "cell_type": "code",
   "execution_count": 51,
   "outputs": [
    {
     "name": "stderr",
     "output_type": "stream",
     "text": [
      "100%|██████████| 120/120 [00:32<00:00,  3.68it/s]\n"
     ]
    }
   ],
   "source": [
    "files = os.listdir(stats_dir)\n",
    "corrs = [file for file in files if file.startswith(\"p_corr\")]\n",
    "corr_mat_std = pd.DataFrame(columns=features, index=features, data=np.eye(16))\n",
    "corr_mat_mean = pd.DataFrame(columns=features, index=features, data=np.eye(16))\n",
    "corr_mat_med = pd.DataFrame(columns=features, index=features, data=np.eye(16))\n",
    "for data in corrs:\n",
    "    names = data.replace(\".csv\", \"\").replace(\"p_corr_\", \"\").split(sep='_')\n",
    "    corr_file = pd.read_csv(stats_dir + data)\n",
    "    corr_mat_std.at[names[0], names[1]] = corr_file.abs().std().std()\n",
    "    corr_mat_std.at[names[1], names[0]] = corr_file.abs().std().std()\n",
    "    corr_mat_mean.at[names[0], names[1]] = corr_file.abs().mean().mean()\n",
    "    corr_mat_mean.at[names[1], names[0]] = corr_file.abs().mean().mean()\n",
    "    corr_mat_med.at[names[0], names[1]] = corr_file.abs().median().median()\n",
    "    corr_mat_med.at[names[1], names[0]] = corr_file.abs().median().median()\n",
    "corr_mat_std.to_csv(stats_dir + \"corr_mat_std.csv\")\n",
    "corr_mat_mean.to_csv(stats_dir + \"corr_mat_mean.csv\")\n",
    "corr_mat_med.to_csv(stats_dir + \"corr_mat_med.csv\")"
   ],
   "metadata": {
    "collapsed": false,
    "pycharm": {
     "name": "#%%\n"
    }
   }
  },
  {
   "cell_type": "code",
   "execution_count": 84,
   "outputs": [
    {
     "data": {
      "text/plain": "<Figure size 640x480 with 2 Axes>",
      "image/png": "[encoded data removed]"
     },
     "metadata": {},
     "output_type": "display_data"
    }
   ],
   "source": [
    "data = pd.read_csv(stats_dir+\"corr_mat_med.csv\")\n",
    "# plot heatmap\n",
    "ax = sns.heatmap(data.get(features), yticklabels=features, xticklabels=features)\n",
    "ax.xaxis.tick_top()\n",
    "for item in ax.get_xticklabels():\n",
    "    item.set_rotation(90)\n",
    "\n",
    "plt.savefig(plots_dir+'med_heatmap.png', dpi=100)\n",
    "plt.show()"
   ],
   "metadata": {
    "collapsed": false,
    "pycharm": {
     "name": "#%%\n"
    }
   }
  },
  {
   "cell_type": "code",
   "execution_count": null,
   "outputs": [],
   "source": [],
   "metadata": {
    "collapsed": false,
    "pycharm": {
     "name": "#%%\n"
    }
   }
  }
 ],
 "metadata": {
  "kernelspec": {
   "display_name": "Python 3",
   "language": "python",
   "name": "python3"
  },
  "language_info": {
   "codemirror_mode": {
    "name": "ipython",
    "version": 2
   },
   "file_extension": ".py",
   "mimetype": "text/x-python",
   "name": "python",
   "nbconvert_exporter": "python",
   "pygments_lexer": "ipython2",
   "version": "2.7.6"
  }
 },
 "nbformat": 4,
 "nbformat_minor": 0
}